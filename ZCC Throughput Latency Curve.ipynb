{
 "cells": [
  {
   "cell_type": "code",
   "execution_count": 1,
   "id": "72b8214f-f1fc-41d9-8ab1-e06c41cdc810",
   "metadata": {},
   "outputs": [],
   "source": [
    "DATASET_FILE_1M20PHS = \"./dataset/1m20phs.csv\""
   ]
  },
  {
   "cell_type": "code",
   "execution_count": 5,
   "id": "30f345dd-a581-4b48-bdb9-16727dfa540e",
   "metadata": {},
   "outputs": [],
   "source": [
    "import polars as pl\n",
    "dataset_1m20phs = pl.read_csv(DATASET_FILE_1M20PHS)"
   ]
  },
  {
   "cell_type": "code",
   "execution_count": 8,
   "id": "91347da8-d395-42ab-9386-668dfaa58b73",
   "metadata": {},
   "outputs": [],
   "source": [
    "# File to store the achieved load and pps for 1M20PHS workload\n",
    "\n",
    "column_names = ['offered_load_pps', 'achieved_load_pps', 'p99', 'pinning_limit_2mb_pages', 'segment_size_2mb_pages', 'system']\n",
    "dataset_columns_1m20phs = dataset_1m20phs.select(column_names)"
   ]
  },
  {
   "cell_type": "code",
   "execution_count": 51,
   "id": "9019dd94-46db-41f9-b152-0ddab4563e2b",
   "metadata": {},
   "outputs": [
    {
     "ename": "TypeError",
     "evalue": "cannot use `__getitem__` on Series of dtype Int64 with argument 'system' of type 'str'",
     "output_type": "error",
     "traceback": [
      "\u001b[0;31m---------------------------------------------------------------------------\u001b[0m",
      "\u001b[0;31mTypeError\u001b[0m                                 Traceback (most recent call last)",
      "Cell \u001b[0;32mIn[51], line 34\u001b[0m\n\u001b[1;32m     32\u001b[0m segment_size_grouped_dataframe \u001b[38;5;241m=\u001b[39m dataset_columns_1m20phs\u001b[38;5;241m.\u001b[39mgroup_by(\u001b[38;5;124m'\u001b[39m\u001b[38;5;124msegment_size_2mb_pages\u001b[39m\u001b[38;5;124m'\u001b[39m)\n\u001b[1;32m     33\u001b[0m \u001b[38;5;28;01mfor\u001b[39;00m df \u001b[38;5;129;01min\u001b[39;00m segment_size_grouped_dataframe:\n\u001b[0;32m---> 34\u001b[0m     conv \u001b[38;5;241m=\u001b[39m \u001b[43mconvert_to_plotting_dict\u001b[49m\u001b[43m(\u001b[49m\u001b[43mdf\u001b[49m\u001b[43m[\u001b[49m\u001b[38;5;241;43m1\u001b[39;49m\u001b[43m]\u001b[49m\u001b[43m)\u001b[49m\n\u001b[1;32m     35\u001b[0m     \u001b[38;5;28mprint\u001b[39m(conv)\n\u001b[1;32m     36\u001b[0m     \u001b[38;5;28;01mbreak\u001b[39;00m\n",
      "Cell \u001b[0;32mIn[51], line 27\u001b[0m, in \u001b[0;36mconvert_to_plotting_dict\u001b[0;34m(dataframe)\u001b[0m\n\u001b[1;32m     25\u001b[0m         \u001b[38;5;28;01mfor\u001b[39;00m m \u001b[38;5;129;01min\u001b[39;00m plotting_dict[k][l]\u001b[38;5;241m.\u001b[39mkeys():\n\u001b[1;32m     26\u001b[0m             \u001b[38;5;28;01mfor\u001b[39;00m data \u001b[38;5;129;01min\u001b[39;00m dataframe:\n\u001b[0;32m---> 27\u001b[0m                 \u001b[38;5;28;01mif\u001b[39;00m \u001b[43mdata\u001b[49m\u001b[43m[\u001b[49m\u001b[38;5;124;43m'\u001b[39;49m\u001b[38;5;124;43msystem\u001b[39;49m\u001b[38;5;124;43m'\u001b[39;49m\u001b[43m]\u001b[49m\u001b[38;5;241m.\u001b[39mstr() \u001b[38;5;241m==\u001b[39m k \u001b[38;5;129;01mand\u001b[39;00m data[\u001b[38;5;124m'\u001b[39m\u001b[38;5;124moffered_load_pps\u001b[39m\u001b[38;5;124m'\u001b[39m] \u001b[38;5;241m==\u001b[39m l \u001b[38;5;129;01mand\u001b[39;00m data[\u001b[38;5;124m'\u001b[39m\u001b[38;5;124mpinning_limit_2mb_pages\u001b[39m\u001b[38;5;124m'\u001b[39m] \u001b[38;5;241m==\u001b[39m m:\n\u001b[1;32m     28\u001b[0m                     plotting_dict[k][l][m]\u001b[38;5;241m.\u001b[39mappend((data[\u001b[38;5;124m'\u001b[39m\u001b[38;5;124machieved_load_pps\u001b[39m\u001b[38;5;124m'\u001b[39m], data[\u001b[38;5;124m'\u001b[39m\u001b[38;5;124mp99\u001b[39m\u001b[38;5;124m'\u001b[39m]))\n\u001b[1;32m     30\u001b[0m \u001b[38;5;28;01mreturn\u001b[39;00m plotting_dict\n",
      "File \u001b[0;32m~/Developer/Python/zcc-runs/zccEnv/lib/python3.9/site-packages/polars/series/series.py:1067\u001b[0m, in \u001b[0;36mSeries.__getitem__\u001b[0;34m(self, item)\u001b[0m\n\u001b[1;32m   1062\u001b[0m         \u001b[38;5;28;01mraise\u001b[39;00m \u001b[38;5;167;01mValueError\u001b[39;00m(\n\u001b[1;32m   1063\u001b[0m             \u001b[38;5;124m\"\u001b[39m\u001b[38;5;124mcannot use `__getitem__` with index values containing nulls\u001b[39m\u001b[38;5;124m\"\u001b[39m\n\u001b[1;32m   1064\u001b[0m         )\n\u001b[1;32m   1065\u001b[0m     \u001b[38;5;28;01mreturn\u001b[39;00m \u001b[38;5;28mself\u001b[39m\u001b[38;5;241m.\u001b[39m_take_with_series(idx_series)\n\u001b[0;32m-> 1067\u001b[0m \u001b[38;5;28;01mraise\u001b[39;00m \u001b[38;5;167;01mTypeError\u001b[39;00m(\n\u001b[1;32m   1068\u001b[0m     \u001b[38;5;124mf\u001b[39m\u001b[38;5;124m\"\u001b[39m\u001b[38;5;124mcannot use `__getitem__` on Series of dtype \u001b[39m\u001b[38;5;132;01m{\u001b[39;00m\u001b[38;5;28mself\u001b[39m\u001b[38;5;241m.\u001b[39mdtype\u001b[38;5;132;01m!r}\u001b[39;00m\u001b[38;5;124m\"\u001b[39m\n\u001b[1;32m   1069\u001b[0m     \u001b[38;5;124mf\u001b[39m\u001b[38;5;124m\"\u001b[39m\u001b[38;5;124m with argument \u001b[39m\u001b[38;5;132;01m{\u001b[39;00mitem\u001b[38;5;132;01m!r}\u001b[39;00m\u001b[38;5;124m of type \u001b[39m\u001b[38;5;132;01m{\u001b[39;00m\u001b[38;5;28mtype\u001b[39m(item)\u001b[38;5;241m.\u001b[39m\u001b[38;5;18m__name__\u001b[39m\u001b[38;5;132;01m!r}\u001b[39;00m\u001b[38;5;124m\"\u001b[39m\n\u001b[1;32m   1070\u001b[0m )\n",
      "\u001b[0;31mTypeError\u001b[0m: cannot use `__getitem__` on Series of dtype Int64 with argument 'system' of type 'str'"
     ]
    }
   ],
   "source": [
    "from typing import Optional, Union\n",
    "\n",
    "\n",
    "def get_unique_column_entries(dataframe: pl.DataFrame, column_name):\n",
    "    return dataframe[column_name].unique()\n",
    "\n",
    "def convert_to_plotting_dict(dataframe: pl.DataFrame):\n",
    "    system_names = dataframe[['system']].unique().rows()\n",
    "    offered_load = dataframe[['offered_load_pps']].unique().rows()\n",
    "    pinning_limit = dataframe[['pinning_limit_2mb_pages']].unique().rows()\n",
    "    plotting_dict = {}\n",
    "    for system in system_names:\n",
    "        if system[0] not in plotting_dict.keys():\n",
    "            plotting_dict[system[0]] = {}\n",
    "        for load in offered_load:\n",
    "            if load[0] not in plotting_dict[system[0]].keys():\n",
    "                plotting_dict[system[0]][load[0]]={}\n",
    "\n",
    "            for pin_limit in pinning_limit:\n",
    "                if pin_limit[0] not in plotting_dict[system[0]][load[0]].keys():\n",
    "                    plotting_dict[system[0]][load[0]][pin_limit[0]] = []\n",
    "\n",
    "    for k in plotting_dict.keys():\n",
    "        for l in plotting_dict[k].keys():\n",
    "            for m in plotting_dict[k][l].keys():\n",
    "                for data in dataframe:\n",
    "                    if data['system'] == k and data['offered_load_pps'] == l and data['pinning_limit_2mb_pages'] == m:\n",
    "                        plotting_dict[k][l][m].append((data['achieved_load_pps'], data['p99']))\n",
    "    \n",
    "    return plotting_dict\n",
    "                    \n",
    "segment_size_grouped_dataframe = dataset_columns_1m20phs.group_by('segment_size_2mb_pages')\n",
    "for df in segment_size_grouped_dataframe:\n",
    "    conv = convert_to_plotting_dict(df[1])\n",
    "    print(conv)\n",
    "    break"
   ]
  },
  {
   "cell_type": "code",
   "execution_count": 30,
   "id": "27392dc2-2d48-4013-9233-d912611a18be",
   "metadata": {},
   "outputs": [
    {
     "data": {
      "text/plain": [
       "[shape: (3,)\n",
       " Series: 'system' [str]\n",
       " [\n",
       " \t\"zcc_cornflakes…\n",
       " \t\"vanilla_cornfl…\n",
       " \t\"cornflakes_cop…\n",
       " ]]"
      ]
     },
     "execution_count": 30,
     "metadata": {},
     "output_type": "execute_result"
    }
   ],
   "source": [
    "system_names = list(get_unique_column_entries(dataset_columns_1m20phs, ['system']))\n",
    "system_names"
   ]
  },
  {
   "cell_type": "code",
   "execution_count": 31,
   "id": "28e1cf84-4e8d-4573-a98f-419c7023a088",
   "metadata": {},
   "outputs": [
    {
     "name": "stdout",
     "output_type": "stream",
     "text": [
      "shape: (3,)\n",
      "Series: 'segment_size_2mb_pages' [i64]\n",
      "[\n",
      "\t16\n",
      "\t32\n",
      "\t64\n",
      "]\n",
      "shape: (3,)\n",
      "Series: 'segment_size_2mb_pages' [i64]\n",
      "[\n",
      "\t16\n",
      "\t32\n",
      "\t64\n",
      "]\n",
      "shape: (3,)\n",
      "Series: 'segment_size_2mb_pages' [i64]\n",
      "[\n",
      "\t16\n",
      "\t32\n",
      "\t64\n",
      "]\n"
     ]
    }
   ],
   "source": [
    "systems_grouped_dataframe = dataset_columns_1m20phs.group_by('system')\n",
    "for df in systems_grouped_dataframe:\n",
    "    print(df[1]['segment_size_2mb_pages'].unique())"
   ]
  },
  {
   "cell_type": "code",
   "execution_count": 16,
   "id": "5d797c21-b514-4ddc-9ad8-33832cce3221",
   "metadata": {},
   "outputs": [
    {
     "ename": "TypeError",
     "evalue": "unhashable type: 'Series'",
     "output_type": "error",
     "traceback": [
      "\u001b[0;31m---------------------------------------------------------------------------\u001b[0m",
      "\u001b[0;31mTypeError\u001b[0m                                 Traceback (most recent call last)",
      "Cell \u001b[0;32mIn[16], line 3\u001b[0m\n\u001b[1;32m      1\u001b[0m segment_size_grouped_dataframe \u001b[38;5;241m=\u001b[39m dataset_columns_1m20phs\u001b[38;5;241m.\u001b[39mgroup_by(\u001b[38;5;124m'\u001b[39m\u001b[38;5;124msegment_size_2mb_pages\u001b[39m\u001b[38;5;124m'\u001b[39m)\n\u001b[1;32m      2\u001b[0m \u001b[38;5;28;01mfor\u001b[39;00m df \u001b[38;5;129;01min\u001b[39;00m segment_size_grouped_dataframe:\n\u001b[0;32m----> 3\u001b[0m     conv \u001b[38;5;241m=\u001b[39m \u001b[43mconvert_to_plotting_dict\u001b[49m\u001b[43m(\u001b[49m\u001b[43mdf\u001b[49m\u001b[43m[\u001b[49m\u001b[38;5;241;43m1\u001b[39;49m\u001b[43m]\u001b[49m\u001b[43m)\u001b[49m\n\u001b[1;32m      4\u001b[0m     \u001b[38;5;28mprint\u001b[39m(conv)\n\u001b[1;32m      5\u001b[0m     \u001b[38;5;28;01mbreak\u001b[39;00m\n",
      "Cell \u001b[0;32mIn[13], line 11\u001b[0m, in \u001b[0;36mconvert_to_plotting_dict\u001b[0;34m(dataframe)\u001b[0m\n\u001b[1;32m      9\u001b[0m plotting_dict \u001b[38;5;241m=\u001b[39m \u001b[38;5;28mdict\u001b[39m()\n\u001b[1;32m     10\u001b[0m \u001b[38;5;28;01mfor\u001b[39;00m system \u001b[38;5;129;01min\u001b[39;00m system_names:\n\u001b[0;32m---> 11\u001b[0m     \u001b[38;5;28;01mif\u001b[39;00m \u001b[43msystem\u001b[49m\u001b[43m \u001b[49m\u001b[38;5;129;43;01mnot\u001b[39;49;00m\u001b[43m \u001b[49m\u001b[38;5;129;43;01min\u001b[39;49;00m\u001b[43m \u001b[49m\u001b[43mplotting_dict\u001b[49m:\n\u001b[1;32m     12\u001b[0m         plotting_dict[system] \u001b[38;5;241m=\u001b[39m \u001b[38;5;28mdict\u001b[39m()\n\u001b[1;32m     13\u001b[0m \u001b[38;5;28;01mreturn\u001b[39;00m plotting_dictt\n",
      "\u001b[0;31mTypeError\u001b[0m: unhashable type: 'Series'"
     ]
    }
   ],
   "source": [
    "segment_size_grouped_dataframe = dataset_columns_1m20phs.group_by('segment_size_2mb_pages')\n",
    "for df in segment_size_grouped_dataframe:\n",
    "    conv = convert_to_plotting_dict(df[1])\n",
    "    print(conv)\n",
    "    break"
   ]
  },
  {
   "cell_type": "code",
   "execution_count": null,
   "id": "4dbaa3f6-8def-41df-97a9-a0dc4faf0d41",
   "metadata": {},
   "outputs": [],
   "source": []
  }
 ],
 "metadata": {
  "kernelspec": {
   "display_name": "Python 3 (ipykernel)",
   "language": "python",
   "name": "python3"
  },
  "language_info": {
   "codemirror_mode": {
    "name": "ipython",
    "version": 3
   },
   "file_extension": ".py",
   "mimetype": "text/x-python",
   "name": "python",
   "nbconvert_exporter": "python",
   "pygments_lexer": "ipython3",
   "version": "3.9.6"
  }
 },
 "nbformat": 4,
 "nbformat_minor": 5
}
