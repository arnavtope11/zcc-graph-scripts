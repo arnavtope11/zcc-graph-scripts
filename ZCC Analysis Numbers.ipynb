{
 "cells": [
  {
   "cell_type": "code",
   "execution_count": 13,
   "id": "72b8214f-f1fc-41d9-8ab1-e06c41cdc810",
   "metadata": {},
   "outputs": [],
   "source": [
    "DATASET_FILE_1M20PHS = \"./dataset/1m20phs.csv\"\n",
    "DATASET_FILE_8MZIPFIAN = \"./dataset/8m_zipfian_25g.csv\"\n",
    "DATASET_FILE_8M20PHS = \"./dataset/8m20phs_d6515.csv\"\n",
    "\n",
    "\n",
    "PINNING_LIMITS = [16, 32, 64, 128, 256, 512, 1024, 2048, 4096]\n",
    "SEGMENT_SIZES = [16, 32, 64, 128, 256, 512]"
   ]
  },
  {
   "cell_type": "code",
   "execution_count": 15,
   "id": "01d8ae1b-6da4-4039-9402-abfc0efcccea",
   "metadata": {},
   "outputs": [
    {
     "name": "stdout",
     "output_type": "stream",
     "text": [
      "Peak Throughput for Vanilla Cornflakes:  798286.8435469456\n",
      "Peak Throughput for Cornflakes Copy:  742941.7260641163\n",
      "Peak Throughput for ZCC Cornflakes MFU with segment size:  16  and pinning limit:  16  is:  nan\n",
      "Peak Throughput for ZCC Cornflakes MFU with segment size:  16  and pinning limit:  32  is:  nan\n",
      "Peak Throughput for ZCC Cornflakes MFU with segment size:  16  and pinning limit:  64  is:  641932.7874841053\n",
      "Peak Throughput for ZCC Cornflakes MFU with segment size:  16  and pinning limit:  128  is:  645184.2989643982\n",
      "Peak Throughput for ZCC Cornflakes MFU with segment size:  16  and pinning limit:  256  is:  653736.8395574966\n",
      "Peak Throughput for ZCC Cornflakes MFU with segment size:  16  and pinning limit:  512  is:  665059.5474318521\n",
      "Peak Throughput for ZCC Cornflakes MFU with segment size:  16  and pinning limit:  1024  is:  695075.0736281382\n",
      "Peak Throughput for ZCC Cornflakes MFU with segment size:  16  and pinning limit:  2048  is:  744898.808667978\n",
      "Peak Throughput for ZCC Cornflakes MFU with segment size:  16  and pinning limit:  4096  is:  745706.7410240772\n",
      "Peak Throughput for ZCC Cornflakes MFU with segment size:  32  and pinning limit:  16  is:  nan\n",
      "Peak Throughput for ZCC Cornflakes MFU with segment size:  32  and pinning limit:  32  is:  nan\n",
      "Peak Throughput for ZCC Cornflakes MFU with segment size:  32  and pinning limit:  64  is:  653280.2180346325\n",
      "Peak Throughput for ZCC Cornflakes MFU with segment size:  32  and pinning limit:  128  is:  651317.498901105\n",
      "Peak Throughput for ZCC Cornflakes MFU with segment size:  32  and pinning limit:  256  is:  649478.9820172656\n",
      "Peak Throughput for ZCC Cornflakes MFU with segment size:  32  and pinning limit:  512  is:  666906.2944370975\n",
      "Peak Throughput for ZCC Cornflakes MFU with segment size:  32  and pinning limit:  1024  is:  688618.5377121662\n",
      "Peak Throughput for ZCC Cornflakes MFU with segment size:  32  and pinning limit:  2048  is:  739534.3197876236\n",
      "Peak Throughput for ZCC Cornflakes MFU with segment size:  32  and pinning limit:  4096  is:  753832.2566871257\n",
      "Peak Throughput for ZCC Cornflakes MFU with segment size:  64  and pinning limit:  16  is:  nan\n",
      "Peak Throughput for ZCC Cornflakes MFU with segment size:  64  and pinning limit:  32  is:  nan\n",
      "Peak Throughput for ZCC Cornflakes MFU with segment size:  64  and pinning limit:  64  is:  633901.6660853534\n",
      "Peak Throughput for ZCC Cornflakes MFU with segment size:  64  and pinning limit:  128  is:  635068.9429422015\n",
      "Peak Throughput for ZCC Cornflakes MFU with segment size:  64  and pinning limit:  256  is:  639055.4042847445\n",
      "Peak Throughput for ZCC Cornflakes MFU with segment size:  64  and pinning limit:  512  is:  648705.9254654831\n",
      "Peak Throughput for ZCC Cornflakes MFU with segment size:  64  and pinning limit:  1024  is:  678449.9775296116\n",
      "Peak Throughput for ZCC Cornflakes MFU with segment size:  64  and pinning limit:  2048  is:  731686.5531271817\n",
      "Peak Throughput for ZCC Cornflakes MFU with segment size:  64  and pinning limit:  4096  is:  737838.5514222577\n",
      "Peak Throughput for ZCC Cornflakes MFU with segment size:  128  and pinning limit:  16  is:  nan\n",
      "Peak Throughput for ZCC Cornflakes MFU with segment size:  128  and pinning limit:  32  is:  nan\n",
      "Peak Throughput for ZCC Cornflakes MFU with segment size:  128  and pinning limit:  64  is:  nan\n",
      "Peak Throughput for ZCC Cornflakes MFU with segment size:  128  and pinning limit:  128  is:  636330.4610339783\n",
      "Peak Throughput for ZCC Cornflakes MFU with segment size:  128  and pinning limit:  256  is:  636676.8311685817\n",
      "Peak Throughput for ZCC Cornflakes MFU with segment size:  128  and pinning limit:  512  is:  646410.9036116836\n",
      "Peak Throughput for ZCC Cornflakes MFU with segment size:  128  and pinning limit:  1024  is:  668019.0547383226\n",
      "Peak Throughput for ZCC Cornflakes MFU with segment size:  128  and pinning limit:  2048  is:  714382.546906905\n",
      "Peak Throughput for ZCC Cornflakes MFU with segment size:  128  and pinning limit:  4096  is:  739741.8980520556\n",
      "Peak Throughput for ZCC Cornflakes MFU with segment size:  256  and pinning limit:  16  is:  nan\n",
      "Peak Throughput for ZCC Cornflakes MFU with segment size:  256  and pinning limit:  32  is:  nan\n",
      "Peak Throughput for ZCC Cornflakes MFU with segment size:  256  and pinning limit:  64  is:  nan\n",
      "Peak Throughput for ZCC Cornflakes MFU with segment size:  256  and pinning limit:  128  is:  nan\n",
      "Peak Throughput for ZCC Cornflakes MFU with segment size:  256  and pinning limit:  256  is:  634864.3086878805\n",
      "Peak Throughput for ZCC Cornflakes MFU with segment size:  256  and pinning limit:  512  is:  641774.2888331783\n",
      "Peak Throughput for ZCC Cornflakes MFU with segment size:  256  and pinning limit:  1024  is:  663590.6555172235\n",
      "Peak Throughput for ZCC Cornflakes MFU with segment size:  256  and pinning limit:  2048  is:  713280.9625823195\n",
      "Peak Throughput for ZCC Cornflakes MFU with segment size:  256  and pinning limit:  4096  is:  726539.470986478\n",
      "Peak Throughput for ZCC Cornflakes MFU with segment size:  512  and pinning limit:  16  is:  nan\n",
      "Peak Throughput for ZCC Cornflakes MFU with segment size:  512  and pinning limit:  32  is:  nan\n",
      "Peak Throughput for ZCC Cornflakes MFU with segment size:  512  and pinning limit:  64  is:  nan\n",
      "Peak Throughput for ZCC Cornflakes MFU with segment size:  512  and pinning limit:  128  is:  nan\n",
      "Peak Throughput for ZCC Cornflakes MFU with segment size:  512  and pinning limit:  256  is:  nan\n",
      "Peak Throughput for ZCC Cornflakes MFU with segment size:  512  and pinning limit:  512  is:  655505.8557471286\n",
      "Peak Throughput for ZCC Cornflakes MFU with segment size:  512  and pinning limit:  1024  is:  672010.9153691892\n",
      "Peak Throughput for ZCC Cornflakes MFU with segment size:  512  and pinning limit:  2048  is:  721359.2119398601\n",
      "Peak Throughput for ZCC Cornflakes MFU with segment size:  512  and pinning limit:  4096  is:  726792.7613937533\n"
     ]
    }
   ],
   "source": [
    "from utils import get_peak_throughput_for_system, get_peak_through_for_system_segment_size_pinning_limit\n",
    "import pandas as pd\n",
    "\n",
    "\n",
    "def compute_peak_tp():\n",
    "\n",
    "    dataset = pd.read_csv(DATASET_FILE_8M20PHS)\n",
    "    vanilla_cf_peak_tp = get_peak_throughput_for_system(dataset, \"vanilla_cornflakes\")\n",
    "    cornflakes_copy_peak_tp = get_peak_throughput_for_system(dataset, \"cornflakes_copy\")\n",
    "\n",
    "    print(\"Peak Throughput for Vanilla Cornflakes: \", vanilla_cf_peak_tp)\n",
    "    print(\"Peak Throughput for Cornflakes Copy: \", cornflakes_copy_peak_tp)\n",
    "\n",
    "    for segment_size in SEGMENT_SIZES:\n",
    "        for pinning_limit in PINNING_LIMITS:\n",
    "            peak_tp = get_peak_through_for_system_segment_size_pinning_limit(dataset, \"zcc_cornflakes_mfu\", segment_size, pinning_limit)\n",
    "            print(\"Peak Throughput for ZCC Cornflakes MFU with segment size: \", segment_size, \" and pinning limit: \", pinning_limit, \" is: \", peak_tp)\n",
    "compute_peak_tp()"
   ]
  },
  {
   "cell_type": "code",
   "execution_count": 10,
   "id": "9cdaad14",
   "metadata": {},
   "outputs": [
    {
     "name": "stdout",
     "output_type": "stream",
     "text": [
      "720051.7813327379\n"
     ]
    }
   ],
   "source": []
  }
 ],
 "metadata": {
  "kernelspec": {
   "display_name": "Python 3 (ipykernel)",
   "language": "python",
   "name": "python3"
  },
  "language_info": {
   "codemirror_mode": {
    "name": "ipython",
    "version": 3
   },
   "file_extension": ".py",
   "mimetype": "text/x-python",
   "name": "python",
   "nbconvert_exporter": "python",
   "pygments_lexer": "ipython3",
   "version": "3.9.6"
  }
 },
 "nbformat": 4,
 "nbformat_minor": 5
}
